{
 "cells": [
  {
   "cell_type": "markdown",
   "metadata": {},
   "source": [
    "# Leora Kelsey HW2\n",
    "This Jupyter notebook is for exploring the data set about Covid Vaccination information in the United States.\n",
    "It describes the number of people of various groups who got vaccinated, when they got vaccinated, and full vaccination status.\n",
    "https://data.cdc.gov/Vaccinations/COVID-19-Vaccination-Demographics-in-the-United-St/km4m-vcsb\n",
    "\n",
    "Something I want to know is how covid vaccination affected different age groups.\n",
    "Additionally, I want to see how the vaccination rates increased over time\n",
    "\n",
    "This Jupyter notebook was kind of just made from scratch and hard coded in Github until I got a computer to work on this with (cool! Neato!) "
   ]
  },
  {
   "cell_type": "code",
   "execution_count": 2,
   "metadata": {},
   "outputs": [
    {
     "data": {
      "text/plain": [
       "'done'"
      ]
     },
     "execution_count": 2,
     "metadata": {},
     "output_type": "execute_result"
    }
   ],
   "source": [
    "import pandas as pd\n",
    "import numpy as np\n",
    "import matplotlib.pyplot as plt\n",
    "'done'"
   ]
  },
  {
   "cell_type": "markdown",
   "metadata": {},
   "source": [
    "## What the last bit did\n",
    "I have now imported all the dictionaries\n",
    "Now I am importing the information. Here is a rundown on all the information. Note, there is _a lot_ of information."
   ]
  },
  {
   "cell_type": "code",
   "execution_count": 5,
   "metadata": {},
   "outputs": [
    {
     "data": {
      "text/html": [
       "<div>\n",
       "<style scoped>\n",
       "    .dataframe tbody tr th:only-of-type {\n",
       "        vertical-align: middle;\n",
       "    }\n",
       "\n",
       "    .dataframe tbody tr th {\n",
       "        vertical-align: top;\n",
       "    }\n",
       "\n",
       "    .dataframe thead th {\n",
       "        text-align: right;\n",
       "    }\n",
       "</style>\n",
       "<table border=\"1\" class=\"dataframe\">\n",
       "  <thead>\n",
       "    <tr style=\"text-align: right;\">\n",
       "      <th></th>\n",
       "      <th>Administered_Dose1</th>\n",
       "      <th>Administered_Dose1_pct_known</th>\n",
       "      <th>Administered_Dose1_pct_US</th>\n",
       "      <th>Series_Complete_Yes</th>\n",
       "      <th>Administered_Dose1_pct_agegroup</th>\n",
       "      <th>Series_Complete_Pop_pct_agegroup</th>\n",
       "      <th>Series_Complete_Pop_Pct_known</th>\n",
       "      <th>Series_Complete_Pop_Pct_US</th>\n",
       "      <th>Booster_Doses_Vax_pct_agegroup</th>\n",
       "      <th>Booster_Doses_Pop_Pct_known</th>\n",
       "      <th>Booster_Doses_Vax_Pct_US</th>\n",
       "      <th>Booster_Doses_Pop_Pct_known_Last14Days</th>\n",
       "      <th>Booster_Doses_Yes</th>\n",
       "      <th>Booster_Doses_Yes_Last14Days</th>\n",
       "    </tr>\n",
       "  </thead>\n",
       "  <tbody>\n",
       "    <tr>\n",
       "      <th>count</th>\n",
       "      <td>1.260000e+04</td>\n",
       "      <td>12150.000000</td>\n",
       "      <td>12600.000000</td>\n",
       "      <td>1.260000e+04</td>\n",
       "      <td>9900.000000</td>\n",
       "      <td>9900.000000</td>\n",
       "      <td>12150.000000</td>\n",
       "      <td>12600.000000</td>\n",
       "      <td>12600.000000</td>\n",
       "      <td>12150.000000</td>\n",
       "      <td>12600.000000</td>\n",
       "      <td>12150.000000</td>\n",
       "      <td>1.260000e+04</td>\n",
       "      <td>1.260000e+04</td>\n",
       "    </tr>\n",
       "    <tr>\n",
       "      <th>mean</th>\n",
       "      <td>4.023118e+07</td>\n",
       "      <td>23.851309</td>\n",
       "      <td>24.151849</td>\n",
       "      <td>3.356390e+07</td>\n",
       "      <td>42.959707</td>\n",
       "      <td>36.186545</td>\n",
       "      <td>23.650979</td>\n",
       "      <td>24.229214</td>\n",
       "      <td>7.845111</td>\n",
       "      <td>10.457498</td>\n",
       "      <td>26.358833</td>\n",
       "      <td>10.501292</td>\n",
       "      <td>5.137830e+06</td>\n",
       "      <td>6.777540e+05</td>\n",
       "    </tr>\n",
       "    <tr>\n",
       "      <th>std</th>\n",
       "      <td>6.144091e+07</td>\n",
       "      <td>31.616507</td>\n",
       "      <td>31.807771</td>\n",
       "      <td>5.340826e+07</td>\n",
       "      <td>31.088830</td>\n",
       "      <td>28.989785</td>\n",
       "      <td>31.676842</td>\n",
       "      <td>32.066737</td>\n",
       "      <td>15.561062</td>\n",
       "      <td>24.675972</td>\n",
       "      <td>34.208910</td>\n",
       "      <td>24.468405</td>\n",
       "      <td>1.548205e+07</td>\n",
       "      <td>1.941240e+06</td>\n",
       "    </tr>\n",
       "    <tr>\n",
       "      <th>min</th>\n",
       "      <td>6.000000e+00</td>\n",
       "      <td>0.000000</td>\n",
       "      <td>0.000000</td>\n",
       "      <td>0.000000e+00</td>\n",
       "      <td>0.000000</td>\n",
       "      <td>0.000000</td>\n",
       "      <td>0.000000</td>\n",
       "      <td>0.000000</td>\n",
       "      <td>0.000000</td>\n",
       "      <td>0.000000</td>\n",
       "      <td>0.000000</td>\n",
       "      <td>0.000000</td>\n",
       "      <td>0.000000e+00</td>\n",
       "      <td>0.000000e+00</td>\n",
       "    </tr>\n",
       "    <tr>\n",
       "      <th>25%</th>\n",
       "      <td>1.187968e+06</td>\n",
       "      <td>1.000000</td>\n",
       "      <td>1.100000</td>\n",
       "      <td>4.452862e+05</td>\n",
       "      <td>9.575000</td>\n",
       "      <td>3.000000</td>\n",
       "      <td>0.800000</td>\n",
       "      <td>0.800000</td>\n",
       "      <td>0.000000</td>\n",
       "      <td>0.000000</td>\n",
       "      <td>0.800000</td>\n",
       "      <td>0.000000</td>\n",
       "      <td>0.000000e+00</td>\n",
       "      <td>0.000000e+00</td>\n",
       "    </tr>\n",
       "    <tr>\n",
       "      <th>50%</th>\n",
       "      <td>1.182538e+07</td>\n",
       "      <td>9.200000</td>\n",
       "      <td>9.000000</td>\n",
       "      <td>9.317818e+06</td>\n",
       "      <td>47.200000</td>\n",
       "      <td>40.000000</td>\n",
       "      <td>8.850000</td>\n",
       "      <td>8.600000</td>\n",
       "      <td>0.000000</td>\n",
       "      <td>0.000000</td>\n",
       "      <td>9.600000</td>\n",
       "      <td>0.000000</td>\n",
       "      <td>0.000000e+00</td>\n",
       "      <td>0.000000e+00</td>\n",
       "    </tr>\n",
       "    <tr>\n",
       "      <th>75%</th>\n",
       "      <td>4.799448e+07</td>\n",
       "      <td>35.100000</td>\n",
       "      <td>35.900000</td>\n",
       "      <td>3.839673e+07</td>\n",
       "      <td>66.500000</td>\n",
       "      <td>57.500000</td>\n",
       "      <td>29.900000</td>\n",
       "      <td>34.000000</td>\n",
       "      <td>5.400000</td>\n",
       "      <td>6.400000</td>\n",
       "      <td>40.000000</td>\n",
       "      <td>7.500000</td>\n",
       "      <td>8.034160e+05</td>\n",
       "      <td>2.484398e+05</td>\n",
       "    </tr>\n",
       "    <tr>\n",
       "      <th>max</th>\n",
       "      <td>2.541324e+08</td>\n",
       "      <td>99.900000</td>\n",
       "      <td>100.000000</td>\n",
       "      <td>2.162045e+08</td>\n",
       "      <td>95.000000</td>\n",
       "      <td>95.000000</td>\n",
       "      <td>99.900000</td>\n",
       "      <td>100.000000</td>\n",
       "      <td>68.800000</td>\n",
       "      <td>99.900000</td>\n",
       "      <td>100.000000</td>\n",
       "      <td>99.900000</td>\n",
       "      <td>9.525097e+07</td>\n",
       "      <td>1.361636e+07</td>\n",
       "    </tr>\n",
       "  </tbody>\n",
       "</table>\n",
       "</div>"
      ],
      "text/plain": [
       "       Administered_Dose1  Administered_Dose1_pct_known  \\\n",
       "count        1.260000e+04                  12150.000000   \n",
       "mean         4.023118e+07                     23.851309   \n",
       "std          6.144091e+07                     31.616507   \n",
       "min          6.000000e+00                      0.000000   \n",
       "25%          1.187968e+06                      1.000000   \n",
       "50%          1.182538e+07                      9.200000   \n",
       "75%          4.799448e+07                     35.100000   \n",
       "max          2.541324e+08                     99.900000   \n",
       "\n",
       "       Administered_Dose1_pct_US  Series_Complete_Yes  \\\n",
       "count               12600.000000         1.260000e+04   \n",
       "mean                   24.151849         3.356390e+07   \n",
       "std                    31.807771         5.340826e+07   \n",
       "min                     0.000000         0.000000e+00   \n",
       "25%                     1.100000         4.452862e+05   \n",
       "50%                     9.000000         9.317818e+06   \n",
       "75%                    35.900000         3.839673e+07   \n",
       "max                   100.000000         2.162045e+08   \n",
       "\n",
       "       Administered_Dose1_pct_agegroup  Series_Complete_Pop_pct_agegroup  \\\n",
       "count                      9900.000000                       9900.000000   \n",
       "mean                         42.959707                         36.186545   \n",
       "std                          31.088830                         28.989785   \n",
       "min                           0.000000                          0.000000   \n",
       "25%                           9.575000                          3.000000   \n",
       "50%                          47.200000                         40.000000   \n",
       "75%                          66.500000                         57.500000   \n",
       "max                          95.000000                         95.000000   \n",
       "\n",
       "       Series_Complete_Pop_Pct_known  Series_Complete_Pop_Pct_US  \\\n",
       "count                   12150.000000                12600.000000   \n",
       "mean                       23.650979                   24.229214   \n",
       "std                        31.676842                   32.066737   \n",
       "min                         0.000000                    0.000000   \n",
       "25%                         0.800000                    0.800000   \n",
       "50%                         8.850000                    8.600000   \n",
       "75%                        29.900000                   34.000000   \n",
       "max                        99.900000                  100.000000   \n",
       "\n",
       "       Booster_Doses_Vax_pct_agegroup  Booster_Doses_Pop_Pct_known  \\\n",
       "count                    12600.000000                 12150.000000   \n",
       "mean                         7.845111                    10.457498   \n",
       "std                         15.561062                    24.675972   \n",
       "min                          0.000000                     0.000000   \n",
       "25%                          0.000000                     0.000000   \n",
       "50%                          0.000000                     0.000000   \n",
       "75%                          5.400000                     6.400000   \n",
       "max                         68.800000                    99.900000   \n",
       "\n",
       "       Booster_Doses_Vax_Pct_US  Booster_Doses_Pop_Pct_known_Last14Days  \\\n",
       "count              12600.000000                            12150.000000   \n",
       "mean                  26.358833                               10.501292   \n",
       "std                   34.208910                               24.468405   \n",
       "min                    0.000000                                0.000000   \n",
       "25%                    0.800000                                0.000000   \n",
       "50%                    9.600000                                0.000000   \n",
       "75%                   40.000000                                7.500000   \n",
       "max                  100.000000                               99.900000   \n",
       "\n",
       "       Booster_Doses_Yes  Booster_Doses_Yes_Last14Days  \n",
       "count       1.260000e+04                  1.260000e+04  \n",
       "mean        5.137830e+06                  6.777540e+05  \n",
       "std         1.548205e+07                  1.941240e+06  \n",
       "min         0.000000e+00                  0.000000e+00  \n",
       "25%         0.000000e+00                  0.000000e+00  \n",
       "50%         0.000000e+00                  0.000000e+00  \n",
       "75%         8.034160e+05                  2.484398e+05  \n",
       "max         9.525097e+07                  1.361636e+07  "
      ]
     },
     "execution_count": 5,
     "metadata": {},
     "output_type": "execute_result"
    }
   ],
   "source": [
    "info = pd.read_csv('COVID-19_Vaccination_Demographics_in_the_United_States_National.csv')\n",
    "info.describe()"
   ]
  },
  {
   "cell_type": "markdown",
   "metadata": {},
   "source": [
    "### A"
   ]
  },
  {
   "cell_type": "markdown",
   "metadata": {},
   "source": [
    "This section prints an array of the columns"
   ]
  },
  {
   "cell_type": "code",
   "execution_count": 7,
   "metadata": {},
   "outputs": [
    {
     "name": "stdout",
     "output_type": "stream",
     "text": [
      "Index(['Date', 'Demographic_category', 'Administered_Dose1',\n",
      "       'Administered_Dose1_pct_known', 'Administered_Dose1_pct_US',\n",
      "       'Series_Complete_Yes', 'Administered_Dose1_pct_agegroup',\n",
      "       'Series_Complete_Pop_pct_agegroup', 'Series_Complete_Pop_Pct_known',\n",
      "       'Series_Complete_Pop_Pct_US', 'Booster_Doses_Vax_pct_agegroup',\n",
      "       'Booster_Doses_Pop_Pct_known', 'Booster_Doses_Vax_Pct_US',\n",
      "       'Booster_Doses_Pop_Pct_known_Last14Days', 'Booster_Doses_Yes',\n",
      "       'Booster_Doses_Yes_Last14Days'],\n",
      "      dtype='object')\n"
     ]
    }
   ],
   "source": [
    "print(info.columns)"
   ]
  },
  {
   "cell_type": "markdown",
   "metadata": {},
   "source": [
    "This section prints an array of the indexes"
   ]
  },
  {
   "cell_type": "code",
   "execution_count": 16,
   "metadata": {},
   "outputs": [
    {
     "name": "stdout",
     "output_type": "stream",
     "text": [
      "RangeIndex(start=0, stop=12600, step=1)\n"
     ]
    }
   ],
   "source": [
    "print(info.index)"
   ]
  },
  {
   "cell_type": "markdown",
   "metadata": {},
   "source": [
    "This is a plot of gathered data "
   ]
  },
  {
   "cell_type": "code",
   "execution_count": 25,
   "metadata": {},
   "outputs": [
    {
     "data": {
      "text/plain": [
       "'done'"
      ]
     },
     "execution_count": 25,
     "metadata": {},
     "output_type": "execute_result"
    },
    {
     "data": {
      "image/png": "[encoded data removed]",
      "text/plain": [
       "<Figure size 432x288 with 1 Axes>"
      ]
     },
     "metadata": {
      "needs_background": "light"
     },
     "output_type": "display_data"
    }
   ],
   "source": [
    "info[[\"Administered_Dose1\",\"Series_Complete_Yes\",\"Booster_Doses_Yes\"]].plot(title = 'Vaccine Doses')\n",
    "'done'"
   ]
  },
  {
   "cell_type": "markdown",
   "metadata": {},
   "source": [
    "pivotted = pd.pivot_table(info,)"
   ]
  }
 ],
 "metadata": {
  "kernelspec": {
   "display_name": "Python 3 (ipykernel)",
   "language": "python",
   "name": "python3"
  },
  "language_info": {
   "codemirror_mode": {
    "name": "ipython",
    "version": 3
   },
   "file_extension": ".py",
   "mimetype": "text/x-python",
   "name": "python",
   "nbconvert_exporter": "python",
   "pygments_lexer": "ipython3",
   "version": "3.9.7"
  }
 },
 "nbformat": 4,
 "nbformat_minor": 4
}
