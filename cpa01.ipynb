{
 "cells": [
  {
   "cell_type": "markdown",
   "metadata": {},
   "source": [
    "# Leora Kelsey HW2\n",
    "This Jupyter notebook is for exploring the data set about Covid Vaccination information in the United States.\n",
    "It describes the number of people of various groups who got vaccinated, when they got vaccinated, and full vaccination status.\n",
    "https://data.cdc.gov/Vaccinations/COVID-19-Vaccination-Demographics-in-the-United-St/km4m-vcsb\n",
    "\n",
    "Something I want to know is how covid vaccination affected different age groups.\n",
    "Additionally, I want to see how the vaccination rates increased over time\n",
    "\n",
    "This Jupyter notebook was kind of just made from scratch and hard coded in Github until I got a computer to work on this with (cool! Neato!) "
   ]
  },
  {
   "cell_type": "code",
   "execution_count": null,
   "metadata": {},
   "outputs": [],
   "source": [
    "import pandas as pd\n",
    "import numpy as np\n",
    "import matplotlib.pyplot as plt\n",
    "'done'"
   ]
  },
  {
   "cell_type": "markdown",
   "metadata": {},
   "source": [
    "## What the last bit did\n",
    "I have now imported all the dictionaries\n",
    "Now I am importing the information. Here is a rundown on all the information. Note, there is _a lot_ of information.\n",
    "\n",
    "Alright, let's go through what each category means. (Taken from literally the data set page)\n",
    "* Demographic_category - Age, sex or race/ethnicity of person receiving vaccination\n",
    "* Administered_Dose1 - Total count of people with at least one dose in demographic category\n",
    "* Administered_Dose1_pct_known - Percent among persons with at least one dose who are Hispanic/Latino\n",
    "* Administered_Dose1_pct_US - Percent among persons with at least one dose, who have demographic information available on age, race/ethnicity or sex\n",
    "* Series_Complete_Yes - Total count of fully vaccinated people in demographic category\n",
    "* Administered_Dose1_pct_agegroup - Percent among persons with at least one dose in demographic category\n",
    "* Series_Complete_Pop_pct_agegroup - Percent among fully vaccinated persons in demographic category.\n",
    "* Series_Complete_Pop_Pct_known - Percent among fully vaccinated persons who are Hispanic/Latino\n",
    "* Series_Complete_Pop_Pct_US - Percent among fully vaccinated persons, who have demographic information available on age, race/ethnicity or sex\n",
    "* Booster_Doses_Vax_pct_agegroup - Percent of people 12+ in a demographic category with a booster dose\n",
    "* Booster_Doses_Pop_Pct_known - Percent of people 12+ with a booster dose where selected demographic category is known\n",
    "* Booster_Doses_Vax_Pct_US - Percent of people 12+ with a booster dose who have known demographic information\n",
    "* Booster_Doses_Pop_Pct_known_Last14Days - Percent of people 12+ with a booster dose in the last 14 days where selected demographic is known\n",
    "* Booster_Doses_Yes - People 12+ with a booster dose\n",
    "* Booster_Doses_Yes_Last14Days - People 12+ with a booster dose in the last 14 days"
   ]
  },
  {
   "cell_type": "code",
   "execution_count": null,
   "metadata": {},
   "outputs": [],
   "source": [
    "info = pd.read_csv('COVID-19_Vaccination_Demographics_in_the_United_States_National.csv')\n",
    "info"
   ]
  },
  {
   "cell_type": "code",
   "execution_count": null,
   "metadata": {},
   "outputs": [],
   "source": [
    "info.describe()"
   ]
  },
  {
   "cell_type": "markdown",
   "metadata": {},
   "source": [
    "This section prints an array of the columns"
   ]
  },
  {
   "cell_type": "code",
   "execution_count": null,
   "metadata": {},
   "outputs": [],
   "source": [
    "print(info.columns)"
   ]
  },
  {
   "cell_type": "markdown",
   "metadata": {},
   "source": [
    "This section prints an array of the indexes"
   ]
  },
  {
   "cell_type": "code",
   "execution_count": null,
   "metadata": {},
   "outputs": [],
   "source": [
    "print(info.index)"
   ]
  },
  {
   "cell_type": "markdown",
   "metadata": {},
   "source": [
    "This is a plot of gathered data "
   ]
  },
  {
   "cell_type": "code",
   "execution_count": null,
   "metadata": {},
   "outputs": [],
   "source": [
    "small_info = info[[\"Administered_Dose1\",\"Series_Complete_Yes\",\"Booster_Doses_Yes\"]]\n",
    "small_info.plot(title = 'Vaccine Doses', subplots = True)\n",
    "'done'"
   ]
  },
  {
   "cell_type": "markdown",
   "metadata": {},
   "source": [
    "This is the creation of my pivot table: Behold its majesty"
   ]
  },
  {
   "cell_type": "code",
   "execution_count": null,
   "metadata": {},
   "outputs": [],
   "source": [
    "pivotted = pd.pivot_table(info,  index = \"Date\", columns = \"Demographic_category\", values= 'Series_Complete_Yes')\n",
    "pivotted"
   ]
  },
  {
   "cell_type": "markdown",
   "metadata": {},
   "source": [
    "So now I'm trying to plot this right away. As you can see below, the result is very ugly and confusin"
   ]
  },
  {
   "cell_type": "code",
   "execution_count": null,
   "metadata": {},
   "outputs": [],
   "source": [
    "pivotted.plot(title = 'Vaccination over Time', figsize = (15,20),subplots = True)\n",
    "'done'"
   ]
  },
  {
   "cell_type": "markdown",
   "metadata": {},
   "source": [
    "So now my plan is to _only_ plot the ones involving a person's age, then race, and then sex. I'm just interested in general. Still, step one is to organize them in terms of type. Here goes nothing."
   ]
  },
  {
   "cell_type": "code",
   "execution_count": null,
   "metadata": {},
   "outputs": [],
   "source": [
    "ages = []\n",
    "for column in pivotted.columns:\n",
    "    if 'Age' in column:\n",
    "        if not '15' in column and not '16' in column and not 'known' in column:\n",
    "            ages += [column]\n",
    "ages"
   ]
  },
  {
   "cell_type": "code",
   "execution_count": null,
   "metadata": {},
   "outputs": [],
   "source": [
    "race = []\n",
    "for column in pivotted.columns:\n",
    "    if \"Race\" in column:\n",
    "        race += [column]\n",
    "race"
   ]
  },
  {
   "cell_type": "code",
   "execution_count": null,
   "metadata": {},
   "outputs": [],
   "source": [
    "sex = []\n",
    "for column in pivotted.columns:\n",
    "    if 'Sex' in column:\n",
    "        sex += [column]\n",
    "sex"
   ]
  },
  {
   "cell_type": "markdown",
   "metadata": {},
   "source": [
    "Now that I've separated these sections, its time to plot them"
   ]
  },
  {
   "cell_type": "code",
   "execution_count": null,
   "metadata": {},
   "outputs": [],
   "source": [
    "pivotted[ages].plot(title = 'Age',figsize = (10,10),subplots = True)\n",
    "'done'"
   ]
  },
  {
   "cell_type": "code",
   "execution_count": null,
   "metadata": {},
   "outputs": [],
   "source": [
    "pivotted[ages]"
   ]
  },
  {
   "cell_type": "code",
   "execution_count": null,
   "metadata": {},
   "outputs": [],
   "source": [
    "a = pivotted[sex]\n",
    "a.plot(figsize = (10,10), subplots = True)"
   ]
  },
  {
   "cell_type": "code",
   "execution_count": null,
   "metadata": {},
   "outputs": [],
   "source": [
    "grouping = info.groupby(['Demographic_category','Date']).mean()\n",
    "grouping"
   ]
  },
  {
   "cell_type": "markdown",
   "metadata": {},
   "source": [
    "##  What My Analysis Tells Me"
   ]
  },
  {
   "cell_type": "markdown",
   "metadata": {},
   "source": [
    "Overall, there's a clear pattern that as time went on, more people got vaccinated and boosted. Its interesting that there are periods where there was a sudden drop. I would assume that that was caused by there being days where people just didn't get the vaccine. Still a bit confused. Nonetheless, it is pretty clear to spot the increase in vaccination rates over time."
   ]
  },
  {
   "cell_type": "markdown",
   "metadata": {},
   "source": [
    "Since I am a bit confused, I found another data set (a different one) and am doing analysis on that one as well. We'll see if I choose to go through it. Oh well."
   ]
  },
  {
   "cell_type": "code",
   "execution_count": null,
   "metadata": {},
   "outputs": [],
   "source": [
    "newpivot = pivotted = pd.pivot_table(info,  index = [\"Date\"], columns = ['Demographic_category'], values = 'Administered_Dose1')\n",
    "newpivot"
   ]
  },
  {
   "cell_type": "code",
   "execution_count": null,
   "metadata": {},
   "outputs": [],
   "source": [
    "newpivot[ages].plot(subplots = True, figsize = (10,10), title = 'first dose by age')\n",
    "'done'"
   ]
  }
 ],
 "metadata": {
  "kernelspec": {
   "display_name": "Python 3 (ipykernel)",
   "language": "python",
   "name": "python3"
  },
  "language_info": {
   "codemirror_mode": {
    "name": "ipython",
    "version": 3
   },
   "file_extension": ".py",
   "mimetype": "text/x-python",
   "name": "python",
   "nbconvert_exporter": "python",
   "pygments_lexer": "ipython3",
   "version": "3.9.7"
  }
 },
 "nbformat": 4,
 "nbformat_minor": 4
}
